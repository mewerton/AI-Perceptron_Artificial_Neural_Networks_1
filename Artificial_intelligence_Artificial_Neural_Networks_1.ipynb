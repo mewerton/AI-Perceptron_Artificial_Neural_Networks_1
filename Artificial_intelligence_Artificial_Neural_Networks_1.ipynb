{
  "nbformat": 4,
  "nbformat_minor": 0,
  "metadata": {
    "colab": {
      "provenance": [],
      "authorship_tag": "ABX9TyOm9KlxSEQQZ29h/8zZTXuz",
      "include_colab_link": true
    },
    "kernelspec": {
      "name": "python3",
      "display_name": "Python 3"
    },
    "language_info": {
      "name": "python"
    }
  },
  "cells": [
    {
      "cell_type": "markdown",
      "metadata": {
        "id": "view-in-github",
        "colab_type": "text"
      },
      "source": [
        "<a href=\"https://colab.research.google.com/github/mewerton/AI-Perceptron_Artificial_Neural_Networks_1/blob/main/Artificial_intelligence_Artificial_Neural_Networks_1.ipynb\" target=\"_parent\"><img src=\"https://colab.research.google.com/assets/colab-badge.svg\" alt=\"Open In Colab\"/></a>"
      ]
    },
    {
      "cell_type": "markdown",
      "source": [
        "**Artificial intelligence - Artificial Neural Networks - Task 1 - Practice - Block 1**\n",
        "\n",
        " - student: Mewerton de Melo Silva\n",
        "\n",
        " Activity using Artificial Neural Network Perceptron to determine classes in a Banking dataset on Google Colab."
      ],
      "metadata": {
        "id": "ZvilT0d_iWzW"
      }
    },
    {
      "cell_type": "code",
      "execution_count": 2,
      "metadata": {
        "colab": {
          "base_uri": "https://localhost:8080/"
        },
        "id": "pNuqRRh8A0dl",
        "outputId": "d1793d5f-35fd-4e06-a807-0b454402ee93"
      },
      "outputs": [
        {
          "output_type": "stream",
          "name": "stdout",
          "text": [
            "Drive already mounted at /content/drive; to attempt to forcibly remount, call drive.mount(\"/content/drive\", force_remount=True).\n"
          ]
        }
      ],
      "source": [
        "from sklearn import preprocessing # biblioteca para suporte ao pré-processamento\n",
        "from sklearn.model_selection import train_test_split # biblioteca para separação de amostras para treino e teste\n",
        "from sklearn.linear_model import Perceptron # biblioteca com funções para a execução da RNA Perceptron\n",
        "from sklearn.metrics import accuracy_score, classification_report, confusion_matrix\n",
        "from sklearn import metrics # biblioteca para obtenção de métricas para avaliação dos modelos\n",
        "import matplotlib.pyplot as plt # biblioteca para plotar gráfico\n",
        "import numpy as np\n",
        "import pandas as pd\n",
        "import random # biblioteca aplicada na geração de números randômicos\n",
        "from google.colab import drive\n",
        "drive.mount('/content/drive') # Montando o Google Drive na mesma conta do Google Colab"
      ]
    },
    {
      "cell_type": "code",
      "source": [
        "# Caminho do dataset no Google Drive que será carregado em df\n",
        "df = pd.read_csv(\"/content/drive/MyDrive/Colab_Notebooks/Redes_Naurais/bancario.csv\")\n",
        "\n",
        "# separando a coluna da classe das amostras do dataset\n",
        "y = df.iloc[:, 3].values\n",
        "\n",
        "# substituindo o valor string em numérico, baseado no que determina a função de ativação\n",
        "y = np.where(y == 'bom', 1, -1)\n",
        "\n",
        "# separando as colunas com as variáveis das amostras do dataset para determinar os inputs da RNA\n",
        "X = df.iloc[ : , [0,1,2]].values\n",
        "\n",
        "print(y.shape)\n",
        "print(X.shape)\n"
      ],
      "metadata": {
        "colab": {
          "base_uri": "https://localhost:8080/"
        },
        "id": "ckGam4R_BMxl",
        "outputId": "f1d0a8d0-a349-4aa0-f67b-a1b0080597e6"
      },
      "execution_count": 3,
      "outputs": [
        {
          "output_type": "stream",
          "name": "stdout",
          "text": [
            "(21,)\n",
            "(21, 3)\n"
          ]
        }
      ]
    },
    {
      "cell_type": "code",
      "source": [
        "# normalização dos dados sklearn - dados entre 0 e 1 - https://pt.linux-console.net/?p=5847\n",
        "scaler = preprocessing.MinMaxScaler()\n",
        "X = scaler.fit_transform(X)\n"
      ],
      "metadata": {
        "id": "cmR-_lZsO2VK"
      },
      "execution_count": 4,
      "outputs": []
    },
    {
      "cell_type": "code",
      "source": [
        "# plotando o gráfico para verificação se as amostras são linearmente separáveis\n",
        "plt.scatter(X[:,2],X[:,1],c=y)\n",
        "plt.title(\"Classificação de Contas 'bom x mal'\" )\n",
        "plt.xlabel('Dívida')\n",
        "plt.ylabel('Renda')\n",
        "plt.show"
      ],
      "metadata": {
        "colab": {
          "base_uri": "https://localhost:8080/",
          "height": 489
        },
        "id": "Jb7JBf6_QPPs",
        "outputId": "b410716a-93aa-41aa-d114-5be3a7a5d890"
      },
      "execution_count": 5,
      "outputs": [
        {
          "output_type": "execute_result",
          "data": {
            "text/plain": [
              "<function matplotlib.pyplot.show(close=None, block=None)>"
            ]
          },
          "metadata": {},
          "execution_count": 5
        },
        {
          "output_type": "display_data",
          "data": {
            "text/plain": [
              "<Figure size 640x480 with 1 Axes>"
            ],
            "image/png": "[encoded data removed]"
          },
          "metadata": {}
        }
      ]
    },
    {
      "cell_type": "code",
      "source": [
        "# separação do dataset em amostras para treino e teste, considerando 30% dos valores para teste\n",
        "X_train, X_test, y_train, y_test = train_test_split(X, y, test_size=0.30, random_state=12)\n",
        "\n",
        "print(X_train.shape)\n",
        "print(X_test.shape)"
      ],
      "metadata": {
        "colab": {
          "base_uri": "https://localhost:8080/"
        },
        "id": "P4Ll5EO-UZMG",
        "outputId": "16348586-5b10-4a83-e40f-35732d95b3a4"
      },
      "execution_count": 6,
      "outputs": [
        {
          "output_type": "stream",
          "name": "stdout",
          "text": [
            "(14, 3)\n",
            "(7, 3)\n"
          ]
        }
      ]
    },
    {
      "cell_type": "code",
      "source": [
        "p = Perceptron(random_state=42, eta0=0.0001, alpha=0.1)\n",
        "p.fit(X_train, y_train)"
      ],
      "metadata": {
        "colab": {
          "base_uri": "https://localhost:8080/",
          "height": 75
        },
        "id": "bO3xtQMsUx6u",
        "outputId": "4e7e8bf6-bc88-46a9-ea6c-923b832760e3"
      },
      "execution_count": 7,
      "outputs": [
        {
          "output_type": "execute_result",
          "data": {
            "text/plain": [
              "Perceptron(alpha=0.1, eta0=0.0001, random_state=42)"
            ],
            "text/html": [
              "<style>#sk-container-id-1 {color: black;background-color: white;}#sk-container-id-1 pre{padding: 0;}#sk-container-id-1 div.sk-toggleable {background-color: white;}#sk-container-id-1 label.sk-toggleable__label {cursor: pointer;display: block;width: 100%;margin-bottom: 0;padding: 0.3em;box-sizing: border-box;text-align: center;}#sk-container-id-1 label.sk-toggleable__label-arrow:before {content: \"▸\";float: left;margin-right: 0.25em;color: #696969;}#sk-container-id-1 label.sk-toggleable__label-arrow:hover:before {color: black;}#sk-container-id-1 div.sk-estimator:hover label.sk-toggleable__label-arrow:before {color: black;}#sk-container-id-1 div.sk-toggleable__content {max-height: 0;max-width: 0;overflow: hidden;text-align: left;background-color: #f0f8ff;}#sk-container-id-1 div.sk-toggleable__content pre {margin: 0.2em;color: black;border-radius: 0.25em;background-color: #f0f8ff;}#sk-container-id-1 input.sk-toggleable__control:checked~div.sk-toggleable__content {max-height: 200px;max-width: 100%;overflow: auto;}#sk-container-id-1 input.sk-toggleable__control:checked~label.sk-toggleable__label-arrow:before {content: \"▾\";}#sk-container-id-1 div.sk-estimator input.sk-toggleable__control:checked~label.sk-toggleable__label {background-color: #d4ebff;}#sk-container-id-1 div.sk-label input.sk-toggleable__control:checked~label.sk-toggleable__label {background-color: #d4ebff;}#sk-container-id-1 input.sk-hidden--visually {border: 0;clip: rect(1px 1px 1px 1px);clip: rect(1px, 1px, 1px, 1px);height: 1px;margin: -1px;overflow: hidden;padding: 0;position: absolute;width: 1px;}#sk-container-id-1 div.sk-estimator {font-family: monospace;background-color: #f0f8ff;border: 1px dotted black;border-radius: 0.25em;box-sizing: border-box;margin-bottom: 0.5em;}#sk-container-id-1 div.sk-estimator:hover {background-color: #d4ebff;}#sk-container-id-1 div.sk-parallel-item::after {content: \"\";width: 100%;border-bottom: 1px solid gray;flex-grow: 1;}#sk-container-id-1 div.sk-label:hover label.sk-toggleable__label {background-color: #d4ebff;}#sk-container-id-1 div.sk-serial::before {content: \"\";position: absolute;border-left: 1px solid gray;box-sizing: border-box;top: 0;bottom: 0;left: 50%;z-index: 0;}#sk-container-id-1 div.sk-serial {display: flex;flex-direction: column;align-items: center;background-color: white;padding-right: 0.2em;padding-left: 0.2em;position: relative;}#sk-container-id-1 div.sk-item {position: relative;z-index: 1;}#sk-container-id-1 div.sk-parallel {display: flex;align-items: stretch;justify-content: center;background-color: white;position: relative;}#sk-container-id-1 div.sk-item::before, #sk-container-id-1 div.sk-parallel-item::before {content: \"\";position: absolute;border-left: 1px solid gray;box-sizing: border-box;top: 0;bottom: 0;left: 50%;z-index: -1;}#sk-container-id-1 div.sk-parallel-item {display: flex;flex-direction: column;z-index: 1;position: relative;background-color: white;}#sk-container-id-1 div.sk-parallel-item:first-child::after {align-self: flex-end;width: 50%;}#sk-container-id-1 div.sk-parallel-item:last-child::after {align-self: flex-start;width: 50%;}#sk-container-id-1 div.sk-parallel-item:only-child::after {width: 0;}#sk-container-id-1 div.sk-dashed-wrapped {border: 1px dashed gray;margin: 0 0.4em 0.5em 0.4em;box-sizing: border-box;padding-bottom: 0.4em;background-color: white;}#sk-container-id-1 div.sk-label label {font-family: monospace;font-weight: bold;display: inline-block;line-height: 1.2em;}#sk-container-id-1 div.sk-label-container {text-align: center;}#sk-container-id-1 div.sk-container {/* jupyter's `normalize.less` sets `[hidden] { display: none; }` but bootstrap.min.css set `[hidden] { display: none !important; }` so we also need the `!important` here to be able to override the default hidden behavior on the sphinx rendered scikit-learn.org. See: https://github.com/scikit-learn/scikit-learn/issues/21755 */display: inline-block !important;position: relative;}#sk-container-id-1 div.sk-text-repr-fallback {display: none;}</style><div id=\"sk-container-id-1\" class=\"sk-top-container\"><div class=\"sk-text-repr-fallback\"><pre>Perceptron(alpha=0.1, eta0=0.0001, random_state=42)</pre><b>In a Jupyter environment, please rerun this cell to show the HTML representation or trust the notebook. <br />On GitHub, the HTML representation is unable to render, please try loading this page with nbviewer.org.</b></div><div class=\"sk-container\" hidden><div class=\"sk-item\"><div class=\"sk-estimator sk-toggleable\"><input class=\"sk-toggleable__control sk-hidden--visually\" id=\"sk-estimator-id-1\" type=\"checkbox\" checked><label for=\"sk-estimator-id-1\" class=\"sk-toggleable__label sk-toggleable__label-arrow\">Perceptron</label><div class=\"sk-toggleable__content\"><pre>Perceptron(alpha=0.1, eta0=0.0001, random_state=42)</pre></div></div></div></div></div>"
            ]
          },
          "metadata": {},
          "execution_count": 7
        }
      ]
    },
    {
      "cell_type": "code",
      "source": [
        "predictions_train = p.predict(X_train) # validação do conjunto de amostras treinadas\n",
        "train_score = accuracy_score(predictions_train, y_train) # avaliação de acurácia da classificação das amostras que foram apresentadas no treinamento\n",
        "print(\"Acurácia com dados de treinamento: \", train_score)\n",
        "\n",
        "predictions_test = p.predict(X_test) # validação do conjunto de amostras que não participaram do treinamento\n",
        "train_score = accuracy_score(predictions_test, y_test) # avaliação de acurácia da classificação das amostras que foram apresentadas no treinamento\n",
        "print(\"Acurácia com dados de treinamento: \", train_score)\n",
        "\n",
        "print(classification_report(predictions_test, y_test))\n",
        "\n",
        "print(\"Número de épocas no treinamento: \", p.n_iter_)\n",
        "print(\"Lista de parâmetros configurados na Perceptron: \", p.get_params())\n"
      ],
      "metadata": {
        "colab": {
          "base_uri": "https://localhost:8080/"
        },
        "id": "QLRUp9pWVKel",
        "outputId": "2806a6e4-1dcc-49c2-faa0-c84b45d1f44a"
      },
      "execution_count": 8,
      "outputs": [
        {
          "output_type": "stream",
          "name": "stdout",
          "text": [
            "Acurácia com dados de treinamento:  1.0\n",
            "Acurácia com dados de treinamento:  1.0\n",
            "              precision    recall  f1-score   support\n",
            "\n",
            "          -1       1.00      1.00      1.00         3\n",
            "           1       1.00      1.00      1.00         4\n",
            "\n",
            "    accuracy                           1.00         7\n",
            "   macro avg       1.00      1.00      1.00         7\n",
            "weighted avg       1.00      1.00      1.00         7\n",
            "\n",
            "Número de épocas no treinamento:  6\n",
            "Lista de parâmetros configurados na Perceptron:  {'alpha': 0.1, 'class_weight': None, 'early_stopping': False, 'eta0': 0.0001, 'fit_intercept': True, 'l1_ratio': 0.15, 'max_iter': 1000, 'n_iter_no_change': 5, 'n_jobs': None, 'penalty': None, 'random_state': 42, 'shuffle': True, 'tol': 0.001, 'validation_fraction': 0.1, 'verbose': 0, 'warm_start': False}\n"
          ]
        }
      ]
    },
    {
      "cell_type": "code",
      "source": [
        "# Apresentação gráfica da matriz de confusão dos testes classificados\n",
        "conf_matrix = confusion_matrix(y_test, predictions_test)\n",
        "cm_display = metrics.ConfusionMatrixDisplay(confusion_matrix = conf_matrix, display_labels = ['mal', 'bom'])\n",
        "cm_display.plot()\n",
        "plt.show()"
      ],
      "metadata": {
        "colab": {
          "base_uri": "https://localhost:8080/",
          "height": 455
        },
        "id": "crVGaSveX0k_",
        "outputId": "290e5940-b22b-4838-8bd9-8cd4a8f2139f"
      },
      "execution_count": 9,
      "outputs": [
        {
          "output_type": "display_data",
          "data": {
            "text/plain": [
              "<Figure size 640x480 with 2 Axes>"
            ],
            "image/png": "[encoded data removed]"
          },
          "metadata": {}
        }
      ]
    },
    {
      "cell_type": "code",
      "source": [
        "# Teste individual de amostras já normalizadas\n",
        "A = np.array([0.001,0.9846,0.25753]) # Padrão correto = 1\n",
        "A_y = np.array([1])\n",
        "B = np.array([0.0021,0.24335,0.269772]) # Padrão correto = -1\n",
        "B_y = np.array([-1])\n",
        "\n",
        "prediction_A = p.predict([A])\n",
        "prediction_B = p.predict([B])\n",
        "print(\"Acurácia com dados de A: \", accuracy_score(prediction_A, A_y))\n",
        "print(\"Acurária com dados de B: \", accuracy_score(prediction_B, B_y))"
      ],
      "metadata": {
        "colab": {
          "base_uri": "https://localhost:8080/"
        },
        "id": "F6d3xSmXYZYo",
        "outputId": "5af8bbf4-51da-4583-c28c-456388924cba"
      },
      "execution_count": 10,
      "outputs": [
        {
          "output_type": "stream",
          "name": "stdout",
          "text": [
            "Acurácia com dados de A:  1.0\n",
            "Acurária com dados de B:  1.0\n"
          ]
        }
      ]
    },
    {
      "cell_type": "code",
      "source": [
        "!jupyter nbconvert --to html /content/drive/MyDrive/Colab_Notebooks/Atividade_1.ipynb"
      ],
      "metadata": {
        "colab": {
          "base_uri": "https://localhost:8080/"
        },
        "id": "JZu3YtAki-nG",
        "outputId": "18fe3c96-8eea-49e4-82cf-4f73c0e95a1a"
      },
      "execution_count": null,
      "outputs": [
        {
          "output_type": "stream",
          "name": "stdout",
          "text": [
            "[NbConvertApp] Converting notebook /content/drive/MyDrive/Colab_Notebooks/Atividade_1.ipynb to html\n",
            "[NbConvertApp] Writing 649853 bytes to /content/drive/MyDrive/Colab_Notebooks/Atividade_1.html\n"
          ]
        }
      ]
    }
  ]
}